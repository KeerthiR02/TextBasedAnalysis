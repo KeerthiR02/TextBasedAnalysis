{
 "cells": [
  {
   "cell_type": "code",
   "execution_count": null,
   "id": "de007914-9ce0-4a90-8aa8-ea2332298e42",
   "metadata": {},
   "outputs": [],
   "source": [
    "#French"
   ]
  },
  {
   "cell_type": "markdown",
   "id": "c54246d0-f8ae-4bcd-a9ad-e05b896c185c",
   "metadata": {},
   "source": [
    "# **Importing Required Libraries for Text Summarization and Similarity Calculation**"
   ]
  },
  {
   "cell_type": "code",
   "execution_count": 1,
   "id": "d0d90f1c-93bf-49b2-8844-fd4b0307c572",
   "metadata": {},
   "outputs": [],
   "source": [
    "from nltk.corpus import stopwords #you can remove stop words for\n",
    "\n",
    "from nltk.cluster.util import cosine_distance\n",
    "import numpy as np\n",
    "import networkx as nx"
   ]
  },
  {
   "cell_type": "markdown",
   "id": "d57e8710-cd8e-4163-b97f-b075c02ff4a3",
   "metadata": {},
   "source": [
    "# **Processing Sentences from Text File**"
   ]
  },
  {
   "cell_type": "code",
   "execution_count": 2,
   "id": "53446aaf-c61c-45af-bec5-3f95c74023ce",
   "metadata": {},
   "outputs": [
    {
     "name": "stdout",
     "output_type": "stream",
     "text": [
      "La protection de l'environnement est cruciale pour garantir un avenir durable\n",
      "Les Ã©missions de gaz Ã  effet de serre contribuent au rÃ©chauffement climatique, entraÃ®nant des consÃ©quences dÃ©sastreuses telles que la fonte des glaces et l'Ã©lÃ©vation du niveau de la mer\n",
      "La dÃ©forestation menace la biodiversitÃ© et aggrave le problÃ¨me du changement climatique\n",
      "Il est impÃ©ratif de prendre des mesures immÃ©diates pour rÃ©duire notre empreinte Ã©cologique\n",
      "Promouvoir les Ã©nergies renouvelables et adopter des pratiques agricoles durables sont des Ã©tapes essentielles vers un avenir plus vert\n",
      "Chacun de nous a un rÃ´le Ã  jouer dans la prÃ©servation de notre planÃ¨te pour les gÃ©nÃ©rations futures\n",
      "Les gouvernements doivent prendre des mesures plus strictes pour rÃ©guler les Ã©missions industrielles et encourager les entreprises Ã  adopter des pratiques respectueuses de l'environnement\n",
      "Sensibiliser le public aux problÃ¨mes environnementaux est Ã©galement crucial pour susciter un changement positif\n",
      "La pollution de l'air, de l'eau et des sols menace la santÃ© humaine et le bien-Ãªtre des Ã©cosystÃ¨mes\n",
      "Les plastiques Ã  usage unique reprÃ©se\n",
      "\n"
     ]
    }
   ],
   "source": [
    "file = open(\"C:\\\\Users\\\\keert\\\\Downloads\\\\Text.txt\" , \"r\")\n",
    "#This file contains one paragraph of multiple sentences\n",
    "filedata = file.readlines()\n",
    "article = filedata[0].split(\". \") #Just do the first paragraph\n",
    "sentences = []\n",
    "for sentence in article:\n",
    " print(sentence)\n",
    " sentences.append(sentence.replace(\"[^a-zA-Z]\", \" \").split(\" \"))"
   ]
  },
  {
   "cell_type": "markdown",
   "id": "3971e42f-9cba-4e06-9b5f-27ea4376b28d",
   "metadata": {},
   "source": [
    "# **Printing Extracted Sentences**"
   ]
  },
  {
   "cell_type": "code",
   "execution_count": 3,
   "id": "e8bba590-cbb3-4356-bb1b-d232cb94ab2f",
   "metadata": {},
   "outputs": [
    {
     "name": "stdout",
     "output_type": "stream",
     "text": [
      "Sentences are  [['La', 'protection', 'de', \"l'environnement\", 'est', 'cruciale', 'pour', 'garantir', 'un', 'avenir', 'durable'], ['Les', 'Ã©missions', 'de', 'gaz', 'Ã\\xa0', 'effet', 'de', 'serre', 'contribuent', 'au', 'rÃ©chauffement', 'climatique,', 'entraÃ®nant', 'des', 'consÃ©quences', 'dÃ©sastreuses', 'telles', 'que', 'la', 'fonte', 'des', 'glaces', 'et', \"l'Ã©lÃ©vation\", 'du', 'niveau', 'de', 'la', 'mer'], ['La', 'dÃ©forestation', 'menace', 'la', 'biodiversitÃ©', 'et', 'aggrave', 'le', 'problÃ¨me', 'du', 'changement', 'climatique'], ['Il', 'est', 'impÃ©ratif', 'de', 'prendre', 'des', 'mesures', 'immÃ©diates', 'pour', 'rÃ©duire', 'notre', 'empreinte', 'Ã©cologique'], ['Promouvoir', 'les', 'Ã©nergies', 'renouvelables', 'et', 'adopter', 'des', 'pratiques', 'agricoles', 'durables', 'sont', 'des', 'Ã©tapes', 'essentielles', 'vers', 'un', 'avenir', 'plus', 'vert'], ['Chacun', 'de', 'nous', 'a', 'un', 'rÃ´le', 'Ã\\xa0', 'jouer', 'dans', 'la', 'prÃ©servation', 'de', 'notre', 'planÃ¨te', 'pour', 'les', 'gÃ©nÃ©rations', 'futures'], ['Les', 'gouvernements', 'doivent', 'prendre', 'des', 'mesures', 'plus', 'strictes', 'pour', 'rÃ©guler', 'les', 'Ã©missions', 'industrielles', 'et', 'encourager', 'les', 'entreprises', 'Ã\\xa0', 'adopter', 'des', 'pratiques', 'respectueuses', 'de', \"l'environnement\"], ['Sensibiliser', 'le', 'public', 'aux', 'problÃ¨mes', 'environnementaux', 'est', 'Ã©galement', 'crucial', 'pour', 'susciter', 'un', 'changement', 'positif'], ['La', 'pollution', 'de', \"l'air,\", 'de', \"l'eau\", 'et', 'des', 'sols', 'menace', 'la', 'santÃ©', 'humaine', 'et', 'le', 'bien-Ãªtre', 'des', 'Ã©cosystÃ¨mes'], ['Les', 'plastiques', 'Ã\\xa0', 'usage', 'unique', 'reprÃ©se\\n']]\n"
     ]
    }
   ],
   "source": [
    "print(\"Sentences are \", sentences)"
   ]
  },
  {
   "cell_type": "markdown",
   "id": "d9732f7e-1f4c-44f7-be46-5b28a3b1322b",
   "metadata": {},
   "source": [
    "# **\"Calculating Sentence Similarity Using Cosine Distance\"**"
   ]
  },
  {
   "cell_type": "code",
   "execution_count": 4,
   "id": "9e3f2dba-96c1-4611-8e79-2338b0bf4507",
   "metadata": {},
   "outputs": [],
   "source": [
    "def sentence_similarity(sent1, sent2 ):\n",
    "    sent1 = [w.lower() for w in sent1]\n",
    "    sent2 = [w.lower() for w in sent2]\n",
    "    all_words = list(set(sent1 + sent2))\n",
    "    vector1 = [0] * len(all_words)\n",
    "    vector2 = [0] * len(all_words)\n",
    "# build the vector for the first sentence\n",
    "    for w in sent1:\n",
    "      vector1[all_words.index(w)] += 1\n",
    "# build the vector for the second sentence\n",
    "    for w in sent2:\n",
    "      vector2[all_words.index(w)] += 1\n",
    "    return 1 - cosine_distance(vector1, vector2)"
   ]
  },
  {
   "cell_type": "markdown",
   "id": "7758b476-c7ef-46d8-a20f-fbef90110dbd",
   "metadata": {},
   "source": [
    "# **Constructing and Displaying Sentence Similarity Matrix**"
   ]
  },
  {
   "cell_type": "code",
   "execution_count": 5,
   "id": "f7653664-f821-4a81-a6c9-339ab63718da",
   "metadata": {},
   "outputs": [
    {
     "name": "stdout",
     "output_type": "stream",
     "text": [
      "Smilarity matrix \n",
      " [[0.         0.24140227 0.16116459 0.2508726  0.13159034 0.33709993\n",
      "  0.15990054 0.24174689 0.23652496 0.        ]\n",
      " [0.24140227 0.         0.2567763  0.2220578  0.20965697 0.35805744\n",
      "  0.36799004 0.         0.50245943 0.13074409]\n",
      " [0.16116459 0.2567763  0.         0.         0.05832118 0.11952286\n",
      "  0.04724556 0.14285714 0.41931393 0.        ]\n",
      " [0.2508726  0.2220578  0.         0.         0.12104551 0.24806947\n",
      "  0.2941742  0.14824986 0.21757132 0.        ]\n",
      " [0.13159034 0.20965697 0.05832118 0.12104551 0.         0.09759001\n",
      "  0.42433421 0.05832118 0.2567763  0.08908708]\n",
      " [0.33709993 0.35805744 0.11952286 0.24806947 0.09759001 0.\n",
      "  0.2766993  0.11952286 0.26311741 0.18257419]\n",
      " [0.15990054 0.36799004 0.04724556 0.2941742  0.42433421 0.2766993\n",
      "  0.         0.04724556 0.2773501  0.28867513]\n",
      " [0.24174689 0.         0.14285714 0.14824986 0.05832118 0.11952286\n",
      "  0.04724556 0.         0.05241424 0.        ]\n",
      " [0.23652496 0.50245943 0.41931393 0.21757132 0.2567763  0.26311741\n",
      "  0.2773501  0.05241424 0.         0.        ]\n",
      " [0.         0.13074409 0.         0.         0.08908708 0.18257419\n",
      "  0.28867513 0.         0.         0.        ]]\n"
     ]
    }
   ],
   "source": [
    "similarity_matrix = np.zeros((len(sentences), len(sentences)))\n",
    "for idx1 in range(len(sentences)):\n",
    "    for idx2 in range(len(sentences)):\n",
    "      if idx1 == idx2: #ignore if both are same sentences\n",
    "         continue\n",
    "      similarity_matrix[idx1][idx2] = sentence_similarity(sentences[idx1],sentences[idx2])\n",
    "print(\"Smilarity matrix \\n\", similarity_matrix)"
   ]
  },
  {
   "cell_type": "markdown",
   "id": "55fb8604-3e22-4e69-9acb-b8e4c64fe7ad",
   "metadata": {},
   "source": [
    "# **Calculating Sentence Similarity Graph**"
   ]
  },
  {
   "cell_type": "code",
   "execution_count": 6,
   "id": "0fe1b106-928e-4ef7-8aab-de6cd2a2193c",
   "metadata": {},
   "outputs": [
    {
     "name": "stdout",
     "output_type": "stream",
     "text": [
      "scores {0: 0.1084761778962805, 1: 0.13552173663760184, 2: 0.07784834403706548, 3: 0.09361803949412374, 4: 0.09087892692797152, 5: 0.12163762056625817, 6: 0.13180969556223854, 7: 0.05771131028965021, 8: 0.13192314627657073, 9: 0.050575002312239284}\n"
     ]
    }
   ],
   "source": [
    "sentence_similarity_graph =nx.from_numpy_array(similarity_matrix)\n",
    "scores = nx.pagerank(sentence_similarity_graph)\n",
    "print(\"scores\", scores)"
   ]
  },
  {
   "cell_type": "markdown",
   "id": "690af9a1-98d9-474a-a501-73bba2471b7a",
   "metadata": {},
   "source": [
    "# **Sorting Sentences**"
   ]
  },
  {
   "cell_type": "code",
   "execution_count": 7,
   "id": "aa1c31b3-c47a-44a6-8143-1f2f280a9547",
   "metadata": {},
   "outputs": [
    {
     "name": "stdout",
     "output_type": "stream",
     "text": [
      "Indexes of top ranked_sentence order are \n",
      "\n",
      " [(0.13552173663760184, ['Les', 'Ã©missions', 'de', 'gaz', 'Ã\\xa0', 'effet', 'de', 'serre', 'contribuent', 'au', 'rÃ©chauffement', 'climatique,', 'entraÃ®nant', 'des', 'consÃ©quences', 'dÃ©sastreuses', 'telles', 'que', 'la', 'fonte', 'des', 'glaces', 'et', \"l'Ã©lÃ©vation\", 'du', 'niveau', 'de', 'la', 'mer']), (0.13192314627657073, ['La', 'pollution', 'de', \"l'air,\", 'de', \"l'eau\", 'et', 'des', 'sols', 'menace', 'la', 'santÃ©', 'humaine', 'et', 'le', 'bien-Ãªtre', 'des', 'Ã©cosystÃ¨mes']), (0.13180969556223854, ['Les', 'gouvernements', 'doivent', 'prendre', 'des', 'mesures', 'plus', 'strictes', 'pour', 'rÃ©guler', 'les', 'Ã©missions', 'industrielles', 'et', 'encourager', 'les', 'entreprises', 'Ã\\xa0', 'adopter', 'des', 'pratiques', 'respectueuses', 'de', \"l'environnement\"]), (0.12163762056625817, ['Chacun', 'de', 'nous', 'a', 'un', 'rÃ´le', 'Ã\\xa0', 'jouer', 'dans', 'la', 'prÃ©servation', 'de', 'notre', 'planÃ¨te', 'pour', 'les', 'gÃ©nÃ©rations', 'futures']), (0.1084761778962805, ['La', 'protection', 'de', \"l'environnement\", 'est', 'cruciale', 'pour', 'garantir', 'un', 'avenir', 'durable']), (0.09361803949412374, ['Il', 'est', 'impÃ©ratif', 'de', 'prendre', 'des', 'mesures', 'immÃ©diates', 'pour', 'rÃ©duire', 'notre', 'empreinte', 'Ã©cologique']), (0.09087892692797152, ['Promouvoir', 'les', 'Ã©nergies', 'renouvelables', 'et', 'adopter', 'des', 'pratiques', 'agricoles', 'durables', 'sont', 'des', 'Ã©tapes', 'essentielles', 'vers', 'un', 'avenir', 'plus', 'vert']), (0.07784834403706548, ['La', 'dÃ©forestation', 'menace', 'la', 'biodiversitÃ©', 'et', 'aggrave', 'le', 'problÃ¨me', 'du', 'changement', 'climatique']), (0.05771131028965021, ['Sensibiliser', 'le', 'public', 'aux', 'problÃ¨mes', 'environnementaux', 'est', 'Ã©galement', 'crucial', 'pour', 'susciter', 'un', 'changement', 'positif']), (0.050575002312239284, ['Les', 'plastiques', 'Ã\\xa0', 'usage', 'unique', 'reprÃ©se\\n'])]\n"
     ]
    }
   ],
   "source": [
    "ranked_sentence = sorted(((scores[i],s) for i,s in enumerate(sentences)), reverse=True)\n",
    "print(\"Indexes of top ranked_sentence order are \\n\\n\",ranked_sentence)"
   ]
  },
  {
   "cell_type": "markdown",
   "id": "8f697913-8f97-4a34-b074-da0b7f8d57d1",
   "metadata": {},
   "source": [
    "# **\"Generating a Text Summary Based on Top Ranked Sentences\"**"
   ]
  },
  {
   "cell_type": "code",
   "execution_count": 8,
   "id": "5f96f38c-33de-4ecd-9b51-148e126437ac",
   "metadata": {},
   "outputs": [
    {
     "name": "stdin",
     "output_type": "stream",
     "text": [
      "How many sentences do you want in the summary?  1\n"
     ]
    }
   ],
   "source": [
    "n = int(input(\"How many sentences do you want in the summary? \"))\n",
    "#n=2\n",
    "summarize_text = []\n",
    "for i in range(n):\n",
    "  summarize_text.append(\" \".join(ranked_sentence[i][1]))\n",
    "    "
   ]
  },
  {
   "cell_type": "markdown",
   "id": "79edfbbe-cdd8-498d-b1e8-b4a484adba4a",
   "metadata": {},
   "source": [
    "# **Printing the Generated Summary**"
   ]
  },
  {
   "cell_type": "code",
   "execution_count": 9,
   "id": "ba7d7448-9ab4-4c2a-b57f-3275d20b6817",
   "metadata": {},
   "outputs": [
    {
     "name": "stdout",
     "output_type": "stream",
     "text": [
      "Summarize Text: \n",
      " Les Ã©missions de gaz Ã  effet de serre contribuent au rÃ©chauffement climatique, entraÃ®nant des consÃ©quences dÃ©sastreuses telles que la fonte des glaces et l'Ã©lÃ©vation du niveau de la mer\n"
     ]
    }
   ],
   "source": [
    "print(\"Summarize Text: \\n\", \". \".join(summarize_text))"
   ]
  },
  {
   "cell_type": "code",
   "execution_count": 1,
   "id": "e05aa71b-6196-4c49-93cf-d557f860466f",
   "metadata": {},
   "outputs": [],
   "source": [
    "#Italian\n"
   ]
  },
  {
   "cell_type": "code",
   "execution_count": 2,
   "id": "aa933135-8ec1-4c4a-b4a0-38209b94885a",
   "metadata": {},
   "outputs": [],
   "source": [
    "from nltk.corpus import stopwords #you can remove stop words for\n",
    "\n",
    "from nltk.cluster.util import cosine_distance\n",
    "import numpy as np\n",
    "import networkx as nx"
   ]
  },
  {
   "cell_type": "markdown",
   "id": "130724f2-a639-4bda-bde9-121b44ca489e",
   "metadata": {},
   "source": [
    "# **Processing Sentences from Text File**"
   ]
  },
  {
   "cell_type": "code",
   "execution_count": 3,
   "id": "5e4dfeeb-b1ca-4a2b-8fa0-9ab132172f5d",
   "metadata": {},
   "outputs": [
    {
     "name": "stdout",
     "output_type": "stream",
     "text": [
      "La tutela dell'ambiente Ã¨ una sfida cruciale nell'era moderna\n",
      "La deforestazione, l'inquinamento marino e l'aumento delle emissioni di gas serra sono solo alcune delle minacce che l'ambiente affronta oggi\n",
      "Per contrastare queste sfide, Ã¨ essenziale adottare misure concrete\n",
      "La gestione sostenibile delle risorse naturali, come le foreste e l'acqua, Ã¨ fondamentale per preservare l'ecosistema globale\n",
      "Inoltre, l'adozione di energie rinnovabili e la riduzione dell'uso di plastica e combustibili fossili sono passi cruciali verso un futuro piÃ¹ sostenibile\n",
      "La sensibilizzazione pubblica sull'importanza della salvaguardia dell'ambiente Ã¨ altrettanto importante, poichÃ© promuove comportamenti piÃ¹ responsabili e sostenibili\n",
      "In definitiva, proteggere l'ambiente Ã¨ una responsabilitÃ  condivisa e richiede un impegno collettivo per garantire un futuro migliore per le generazioni a venire.\n"
     ]
    }
   ],
   "source": [
    "file = open(\"C:\\\\Users\\\\keert\\\\Downloads\\\\TextItalian.txt\" , \"r\")\n",
    "#This file contains one paragraph of multiple sentences\n",
    "filedata = file.readlines()\n",
    "article = filedata[0].split(\". \") #Just do the first paragraph\n",
    "sentences = []\n",
    "for sentence in article:\n",
    " print(sentence)\n",
    " sentences.append(sentence.replace(\"[^a-zA-Z]\", \" \").split(\" \"))"
   ]
  },
  {
   "cell_type": "markdown",
   "id": "ef0a5ba2-a4c0-47ed-ba10-3852fe15c775",
   "metadata": {},
   "source": [
    "# **Printing Extracted Sentences**"
   ]
  },
  {
   "cell_type": "code",
   "execution_count": 4,
   "id": "fe7e779b-53bc-4804-a3f5-c722740dc4f8",
   "metadata": {},
   "outputs": [
    {
     "name": "stdout",
     "output_type": "stream",
     "text": [
      "Sentences are  [['La', 'tutela', \"dell'ambiente\", 'Ã¨', 'una', 'sfida', 'cruciale', \"nell'era\", 'moderna'], ['La', 'deforestazione,', \"l'inquinamento\", 'marino', 'e', \"l'aumento\", 'delle', 'emissioni', 'di', 'gas', 'serra', 'sono', 'solo', 'alcune', 'delle', 'minacce', 'che', \"l'ambiente\", 'affronta', 'oggi'], ['Per', 'contrastare', 'queste', 'sfide,', 'Ã¨', 'essenziale', 'adottare', 'misure', 'concrete'], ['La', 'gestione', 'sostenibile', 'delle', 'risorse', 'naturali,', 'come', 'le', 'foreste', 'e', \"l'acqua,\", 'Ã¨', 'fondamentale', 'per', 'preservare', \"l'ecosistema\", 'globale'], ['Inoltre,', \"l'adozione\", 'di', 'energie', 'rinnovabili', 'e', 'la', 'riduzione', \"dell'uso\", 'di', 'plastica', 'e', 'combustibili', 'fossili', 'sono', 'passi', 'cruciali', 'verso', 'un', 'futuro', 'piÃ¹', 'sostenibile'], ['La', 'sensibilizzazione', 'pubblica', \"sull'importanza\", 'della', 'salvaguardia', \"dell'ambiente\", 'Ã¨', 'altrettanto', 'importante,', 'poichÃ©', 'promuove', 'comportamenti', 'piÃ¹', 'responsabili', 'e', 'sostenibili'], ['In', 'definitiva,', 'proteggere', \"l'ambiente\", 'Ã¨', 'una', 'responsabilitÃ\\xa0', 'condivisa', 'e', 'richiede', 'un', 'impegno', 'collettivo', 'per', 'garantire', 'un', 'futuro', 'migliore', 'per', 'le', 'generazioni', 'a', 'venire.']]\n"
     ]
    }
   ],
   "source": [
    "print(\"Sentences are \", sentences)"
   ]
  },
  {
   "cell_type": "markdown",
   "id": "341f77a4-c43f-4447-bdb8-12187004e4a2",
   "metadata": {},
   "source": [
    "# **Calculating Sentence Similarity Using Cosine Distance**"
   ]
  },
  {
   "cell_type": "code",
   "execution_count": 5,
   "id": "6658d8d3-3868-48c8-8706-0286a821bf3f",
   "metadata": {},
   "outputs": [],
   "source": [
    "def sentence_similarity(sent1, sent2 ):\n",
    "    sent1 = [w.lower() for w in sent1]\n",
    "    sent2 = [w.lower() for w in sent2]\n",
    "    all_words = list(set(sent1 + sent2))\n",
    "    vector1 = [0] * len(all_words)\n",
    "    vector2 = [0] * len(all_words)\n",
    "# build the vector for the first sentence\n",
    "    for w in sent1:\n",
    "      vector1[all_words.index(w)] += 1\n",
    "# build the vector for the second sentence\n",
    "    for w in sent2:\n",
    "      vector2[all_words.index(w)] += 1\n",
    "    return 1 - cosine_distance(vector1, vector2)"
   ]
  },
  {
   "cell_type": "markdown",
   "id": "944a4573-4aef-4f44-aa30-ab63302ce877",
   "metadata": {},
   "source": [
    "# **Constructing and Displaying Sentence Similarity Matrix**"
   ]
  },
  {
   "cell_type": "code",
   "execution_count": 6,
   "id": "d83a801b-a19c-4dc0-bb38-e84a4f949d50",
   "metadata": {},
   "outputs": [
    {
     "name": "stdout",
     "output_type": "stream",
     "text": [
      "Smilarity matrix \n",
      " [[0.         0.07106691 0.11111111 0.16169042 0.06537205 0.24253563\n",
      "  0.12830006]\n",
      " [0.07106691 0.         0.         0.20683508 0.2508726  0.10341754\n",
      "  0.08206099]\n",
      " [0.11111111 0.         0.         0.16169042 0.         0.08084521\n",
      "  0.19245009]\n",
      " [0.16169042 0.20683508 0.16169042 0.         0.1902606  0.17647059\n",
      "  0.23338001]\n",
      " [0.06537205 0.2508726  0.         0.1902606  0.         0.1902606\n",
      "  0.18871284]\n",
      " [0.24253563 0.10341754 0.08084521 0.17647059 0.1902606  0.\n",
      "  0.09335201]\n",
      " [0.12830006 0.08206099 0.19245009 0.23338001 0.18871284 0.09335201\n",
      "  0.        ]]\n"
     ]
    }
   ],
   "source": [
    "similarity_matrix = np.zeros((len(sentences), len(sentences)))\n",
    "for idx1 in range(len(sentences)):\n",
    "    for idx2 in range(len(sentences)):\n",
    "      if idx1 == idx2: #ignore if both are same sentences\n",
    "         continue\n",
    "      similarity_matrix[idx1][idx2] = sentence_similarity(sentences[idx1],sentences[idx2])\n",
    "print(\"Smilarity matrix \\n\", similarity_matrix)"
   ]
  },
  {
   "cell_type": "markdown",
   "id": "5ff6d540-520c-46f9-8aa8-6c01e9adca26",
   "metadata": {},
   "source": [
    "# **Building Sentence Similarity Graph and Calculating PageRank Scores**"
   ]
  },
  {
   "cell_type": "code",
   "execution_count": 7,
   "id": "112359f9-12d2-4b45-ae68-8529ef18fd69",
   "metadata": {},
   "outputs": [
    {
     "name": "stdout",
     "output_type": "stream",
     "text": [
      "scores {0: 0.1346393039574002, 1: 0.12357908600973372, 2: 0.09980840045789724, 3: 0.18695407345281115, 4: 0.14923095371084447, 5: 0.1502816565095448, 6: 0.1555065259017687}\n"
     ]
    }
   ],
   "source": [
    "sentence_similarity_graph =nx.from_numpy_array(similarity_matrix)\n",
    "scores = nx.pagerank(sentence_similarity_graph)\n",
    "print(\"scores\", scores)"
   ]
  },
  {
   "cell_type": "markdown",
   "id": "94a39f06-6890-49d6-988f-4497a3d60de4",
   "metadata": {},
   "source": [
    "# **Ranking Sentences Based on PageRank Scores**"
   ]
  },
  {
   "cell_type": "code",
   "execution_count": 8,
   "id": "e533237c-13fb-422a-9e59-dcc711b3c53c",
   "metadata": {},
   "outputs": [
    {
     "name": "stdout",
     "output_type": "stream",
     "text": [
      "Indexes of top ranked_sentence order are \n",
      "\n",
      " [(0.18695407345281115, ['La', 'gestione', 'sostenibile', 'delle', 'risorse', 'naturali,', 'come', 'le', 'foreste', 'e', \"l'acqua,\", 'Ã¨', 'fondamentale', 'per', 'preservare', \"l'ecosistema\", 'globale']), (0.1555065259017687, ['In', 'definitiva,', 'proteggere', \"l'ambiente\", 'Ã¨', 'una', 'responsabilitÃ\\xa0', 'condivisa', 'e', 'richiede', 'un', 'impegno', 'collettivo', 'per', 'garantire', 'un', 'futuro', 'migliore', 'per', 'le', 'generazioni', 'a', 'venire.']), (0.1502816565095448, ['La', 'sensibilizzazione', 'pubblica', \"sull'importanza\", 'della', 'salvaguardia', \"dell'ambiente\", 'Ã¨', 'altrettanto', 'importante,', 'poichÃ©', 'promuove', 'comportamenti', 'piÃ¹', 'responsabili', 'e', 'sostenibili']), (0.14923095371084447, ['Inoltre,', \"l'adozione\", 'di', 'energie', 'rinnovabili', 'e', 'la', 'riduzione', \"dell'uso\", 'di', 'plastica', 'e', 'combustibili', 'fossili', 'sono', 'passi', 'cruciali', 'verso', 'un', 'futuro', 'piÃ¹', 'sostenibile']), (0.1346393039574002, ['La', 'tutela', \"dell'ambiente\", 'Ã¨', 'una', 'sfida', 'cruciale', \"nell'era\", 'moderna']), (0.12357908600973372, ['La', 'deforestazione,', \"l'inquinamento\", 'marino', 'e', \"l'aumento\", 'delle', 'emissioni', 'di', 'gas', 'serra', 'sono', 'solo', 'alcune', 'delle', 'minacce', 'che', \"l'ambiente\", 'affronta', 'oggi']), (0.09980840045789724, ['Per', 'contrastare', 'queste', 'sfide,', 'Ã¨', 'essenziale', 'adottare', 'misure', 'concrete'])]\n"
     ]
    }
   ],
   "source": [
    "ranked_sentence = sorted(((scores[i],s) for i,s in enumerate(sentences)), reverse=True)\n",
    "print(\"Indexes of top ranked_sentence order are \\n\\n\",ranked_sentence)"
   ]
  },
  {
   "cell_type": "markdown",
   "id": "5a45e174-f4de-4d04-8707-86ee1b550aee",
   "metadata": {},
   "source": [
    "# **Generating a Text Summary Based on Top Ranked Sentences**"
   ]
  },
  {
   "cell_type": "code",
   "execution_count": 9,
   "id": "8c890cbb-05a4-43f6-aa41-5a45f11d6f58",
   "metadata": {},
   "outputs": [
    {
     "name": "stdin",
     "output_type": "stream",
     "text": [
      "How many sentences do you want in the summary?  2\n"
     ]
    }
   ],
   "source": [
    "n = int(input(\"How many sentences do you want in the summary? \"))\n",
    "#n=2\n",
    "summarize_text = []\n",
    "for i in range(n):\n",
    "  summarize_text.append(\" \".join(ranked_sentence[i][1]))"
   ]
  },
  {
   "cell_type": "code",
   "execution_count": 10,
   "id": "d0f62dee-45f2-44ca-8386-4e07bbe75337",
   "metadata": {},
   "outputs": [
    {
     "name": "stdout",
     "output_type": "stream",
     "text": [
      "Summarize Text: \n",
      " La gestione sostenibile delle risorse naturali, come le foreste e l'acqua, Ã¨ fondamentale per preservare l'ecosistema globale. In definitiva, proteggere l'ambiente Ã¨ una responsabilitÃ  condivisa e richiede un impegno collettivo per garantire un futuro migliore per le generazioni a venire.\n"
     ]
    }
   ],
   "source": [
    "print(\"Summarize Text: \\n\", \". \".join(summarize_text))"
   ]
  },
  {
   "cell_type": "code",
   "execution_count": 11,
   "id": "4f979b4c-aa42-4b2f-b7db-83645a3c96de",
   "metadata": {},
   "outputs": [],
   "source": [
    "#Romanian"
   ]
  },
  {
   "cell_type": "markdown",
   "id": "35b15383-6f9a-463a-9e08-372fca057eb8",
   "metadata": {},
   "source": [
    "# **Processing Sentences from Text File**"
   ]
  },
  {
   "cell_type": "code",
   "execution_count": 13,
   "id": "c87235fb-d4ca-4d35-abee-cb3813304ecc",
   "metadata": {},
   "outputs": [
    {
     "name": "stdout",
     "output_type": "stream",
     "text": [
      "Protejarea mediului Ã®nconjurÄƒtor este o preocupare majorÄƒ Ã®n zilele noastre\n",
      "DefriÈ™Äƒrile masive duc la pierderea biodiversitÄƒÈ›ii È™i la schimbÄƒrile climatice\n",
      "Plasticul Ã®n oceane pune Ã®n pericol viaÈ›a marinÄƒ la nivel mondial\n",
      "ÃŽncÄƒlzirea globalÄƒ provoacÄƒ topirea gheÈ›arilor È™i creÈ™terea nivelului mÄƒrii\n",
      "Reducerea emisiilor de gaze cu efect de serÄƒ este vitalÄƒ pentru contracararea schimbÄƒrilor climatice\n",
      "Managementul durabil al resurselor de apÄƒ este crucial pentru asigurarea securitÄƒÈ›ii apei\n",
      "Colectarea selectivÄƒ a deÈ™eurilor este un pas important Ã®n reducerea poluÄƒrii mediului Ã®nconjurÄƒtor\n",
      "Protejarea ecosistemelor marine este esenÈ›ialÄƒ pentru conservarea biodiversitÄƒÈ›ii oceanelor\n",
      "Energiele regenerabile, precum energia solarÄƒ È™i cea eolianÄƒ, pot contribui la reducerea emisiilor de gaze cu efect de serÄƒ\n",
      "PÄƒstrarea pÄƒdurilor este fundamentalÄƒ pentru contracararea eroziunii solului È™i pierderii habitatelor naturale\n",
      "Reducerea utilizÄƒrii plasticei este esenÈ›ialÄƒ pentru reducerea poluÄƒrii mÄƒrilor È™i oceanelor\n",
      "Reducerea poluÄƒrii atmosferice este vitalÄƒ pentru Ã®mbunÄƒtÄƒÈ›irea calitÄƒÈ›ii aerului pe care Ã®l respirÄƒm\n",
      "Protejarea faunei sÄƒlbatice este importantÄƒ pentru menÈ›inerea echilibrului ecosistemelor naturale\n",
      "Conservarea resurselor naturale este esenÈ›ialÄƒ pentru asigurarea unui dezvoltÄƒri durabile\n",
      "Promovarea mobilitÄƒÈ›ii durabile poate contribui la reducerea poluÄƒrii atmosferice\n",
      "ConÈ™tientizarea importanÈ›ei protejÄƒrii mediului Ã®nconjurÄƒtor este crucialÄƒ pentru promovarea comportamentelor durabile\n",
      "Reducerea risipei alimentare este importantÄƒ pentru reducerea impactului mediului al producÈ›iei alimentare\n",
      "Protejarea recifelor de corali este esenÈ›ialÄƒ pentru conservarea biodiversitÄƒÈ›ii marine\n",
      "Reducerea utilizÄƒrii combustibililor fosili este crucialÄƒ pentru reducerea emisiilor de CO2\n",
      "Remedierea terenurilor contaminate este importantÄƒ pentru reducerea impactului poluÄƒrii solului asupra mediului\n",
      "Protejarea mediului Ã®nconjurÄƒtor este o responsabilitate a fiecÄƒruia dintre noi È™i necesitÄƒ un angajament concret din partea fiecÄƒruia\n",
      "SchimbÄƒrile climatice reprezintÄƒ una dintre cele mai mari ameninÈ›Äƒri cu care se confruntÄƒ omenirea astÄƒzi\n",
      "Poluarea aerului din marile oraÈ™e afecteazÄƒ grav sÄƒnÄƒtatea populaÈ›iei È™i calitatea vieÈ›ii\n",
      "Dezvoltarea unor tehnologii curate È™i eficiente este esenÈ›ialÄƒ pentru reducerea emisiilor de CO2\n",
      "ÃŽmbunÄƒtÄƒÈ›irea eficienÈ›ei energetice poate contribui semnificativ la reducerea consumului de energie È™i a emisiilor de gaze cu efect de serÄƒ\n",
      "EducaÈ›ia ambientalÄƒ Ã®n È™coli este crucialÄƒ pentru formarea unei generaÈ›ii conÈ™tiente de importanÈ›a protejÄƒrii mediului\n",
      "Reducerea consumului de apÄƒ este esenÈ›ialÄƒ pentru gestionarea durabilÄƒ a resurselor de apÄƒ dulce\n",
      "Reciclarea materialelor este importantÄƒ pentru reducerea cantitÄƒÈ›ii de deÈ™euri È™i conservarea resurselor naturale\n",
      "ExtincÈ›ia speciilor este o problemÄƒ gravÄƒ care ameninÈ›Äƒ diversitatea biologicÄƒ a planetei\n",
      "Protejarea habitatelor naturale este esenÈ›ialÄƒ pentru supravieÈ›uirea multor specii ameninÈ›ate\n",
      "CreÈ™terea nivelului mÄƒrii pune Ã®n pericol comunitÄƒÈ›ile de coastÄƒ din Ã®ntreaga lume\n",
      "Acidificarea oceanelor are un impact devastator asupra ecosistemelor marine\n",
      "Poluarea sonorÄƒ din oceane afecteazÄƒ comunicaÈ›iile È™i comportamentul multor specii marine\n",
      "Dezvoltarea unor tehnologii alternative la petrol È™i gazele naturale este esenÈ›ialÄƒ pentru reducerea dependenÈ›ei noastre de combustibilii fosili\n",
      "Poluarea solului duce la degradarea calitÄƒÈ›ii solului È™i la pierderea fertilitÄƒÈ›ii acestuia\n",
      "DefriÈ™area pÄƒdurilor tropicale are consecinÈ›e devastatoare asupra biodiversitÄƒÈ›ii È™i a climei globale\n",
      "CreÈ™terea eficienÈ›ei Ã®n utilizarea resurselor naturale este esenÈ›ialÄƒ pentru asigurarea unui viitor durabil pentru planeta noastrÄƒ\n",
      "Implementarea politicilor de protejare a mediului Ã®nconjurÄƒtor trebuie sÄƒ fie o prioritate la nivel global\n",
      "Coordonarea eforturilor internaÈ›ionale este crucialÄƒ pentru combaterea schimbÄƒrilor climatice È™i a degradÄƒrii mediului.\n",
      "\n"
     ]
    }
   ],
   "source": [
    "file = open(\"C:\\\\Users\\\\keert\\\\Downloads\\\\TextRomanian.txt\" , \"r\")\n",
    "#This file contains one paragraph of multiple sentences\n",
    "filedata = file.readlines()\n",
    "article = filedata[0].split(\". \") #Just do the first paragraph\n",
    "sentences = []\n",
    "for sentence in article:\n",
    " print(sentence)\n",
    " sentences.append(sentence.replace(\"[^a-zA-Z]\", \" \").split(\" \"))"
   ]
  },
  {
   "cell_type": "code",
   "execution_count": 14,
   "id": "d126a496-9143-4b1a-ab3f-e6550b1a9ee2",
   "metadata": {},
   "outputs": [
    {
     "name": "stdout",
     "output_type": "stream",
     "text": [
      "Sentences are  [['Protejarea', 'mediului', 'Ã®nconjurÄƒtor', 'este', 'o', 'preocupare', 'majorÄƒ', 'Ã®n', 'zilele', 'noastre'], ['DefriÈ™Äƒrile', 'masive', 'duc', 'la', 'pierderea', 'biodiversitÄƒÈ›ii', 'È™i', 'la', 'schimbÄƒrile', 'climatice'], ['Plasticul', 'Ã®n', 'oceane', 'pune', 'Ã®n', 'pericol', 'viaÈ›a', 'marinÄƒ', 'la', 'nivel', 'mondial'], ['ÃŽncÄƒlzirea', 'globalÄƒ', 'provoacÄƒ', 'topirea', 'gheÈ›arilor', 'È™i', 'creÈ™terea', 'nivelului', 'mÄƒrii'], ['Reducerea', 'emisiilor', 'de', 'gaze', 'cu', 'efect', 'de', 'serÄƒ', 'este', 'vitalÄƒ', 'pentru', 'contracararea', 'schimbÄƒrilor', 'climatice'], ['Managementul', 'durabil', 'al', 'resurselor', 'de', 'apÄƒ', 'este', 'crucial', 'pentru', 'asigurarea', 'securitÄƒÈ›ii', 'apei'], ['Colectarea', 'selectivÄƒ', 'a', 'deÈ™eurilor', 'este', 'un', 'pas', 'important', 'Ã®n', 'reducerea', 'poluÄƒrii', 'mediului', 'Ã®nconjurÄƒtor'], ['Protejarea', 'ecosistemelor', 'marine', 'este', 'esenÈ›ialÄƒ', 'pentru', 'conservarea', 'biodiversitÄƒÈ›ii', 'oceanelor'], ['Energiele', 'regenerabile,', 'precum', 'energia', 'solarÄƒ', 'È™i', 'cea', 'eolianÄƒ,', 'pot', 'contribui', 'la', 'reducerea', 'emisiilor', 'de', 'gaze', 'cu', 'efect', 'de', 'serÄƒ'], ['PÄƒstrarea', 'pÄƒdurilor', 'este', 'fundamentalÄƒ', 'pentru', 'contracararea', 'eroziunii', 'solului', 'È™i', 'pierderii', 'habitatelor', 'naturale'], ['Reducerea', 'utilizÄƒrii', 'plasticei', 'este', 'esenÈ›ialÄƒ', 'pentru', 'reducerea', 'poluÄƒrii', 'mÄƒrilor', 'È™i', 'oceanelor'], ['Reducerea', 'poluÄƒrii', 'atmosferice', 'este', 'vitalÄƒ', 'pentru', 'Ã®mbunÄƒtÄƒÈ›irea', 'calitÄƒÈ›ii', 'aerului', 'pe', 'care', 'Ã®l', 'respirÄƒm'], ['Protejarea', 'faunei', 'sÄƒlbatice', 'este', 'importantÄƒ', 'pentru', 'menÈ›inerea', 'echilibrului', 'ecosistemelor', 'naturale'], ['Conservarea', 'resurselor', 'naturale', 'este', 'esenÈ›ialÄƒ', 'pentru', 'asigurarea', 'unui', 'dezvoltÄƒri', 'durabile'], ['Promovarea', 'mobilitÄƒÈ›ii', 'durabile', 'poate', 'contribui', 'la', 'reducerea', 'poluÄƒrii', 'atmosferice'], ['ConÈ™tientizarea', 'importanÈ›ei', 'protejÄƒrii', 'mediului', 'Ã®nconjurÄƒtor', 'este', 'crucialÄƒ', 'pentru', 'promovarea', 'comportamentelor', 'durabile'], ['Reducerea', 'risipei', 'alimentare', 'este', 'importantÄƒ', 'pentru', 'reducerea', 'impactului', 'mediului', 'al', 'producÈ›iei', 'alimentare'], ['Protejarea', 'recifelor', 'de', 'corali', 'este', 'esenÈ›ialÄƒ', 'pentru', 'conservarea', 'biodiversitÄƒÈ›ii', 'marine'], ['Reducerea', 'utilizÄƒrii', 'combustibililor', 'fosili', 'este', 'crucialÄƒ', 'pentru', 'reducerea', 'emisiilor', 'de', 'CO2'], ['Remedierea', 'terenurilor', 'contaminate', 'este', 'importantÄƒ', 'pentru', 'reducerea', 'impactului', 'poluÄƒrii', 'solului', 'asupra', 'mediului'], ['Protejarea', 'mediului', 'Ã®nconjurÄƒtor', 'este', 'o', 'responsabilitate', 'a', 'fiecÄƒruia', 'dintre', 'noi', 'È™i', 'necesitÄƒ', 'un', 'angajament', 'concret', 'din', 'partea', 'fiecÄƒruia'], ['SchimbÄƒrile', 'climatice', 'reprezintÄƒ', 'una', 'dintre', 'cele', 'mai', 'mari', 'ameninÈ›Äƒri', 'cu', 'care', 'se', 'confruntÄƒ', 'omenirea', 'astÄƒzi'], ['Poluarea', 'aerului', 'din', 'marile', 'oraÈ™e', 'afecteazÄƒ', 'grav', 'sÄƒnÄƒtatea', 'populaÈ›iei', 'È™i', 'calitatea', 'vieÈ›ii'], ['Dezvoltarea', 'unor', 'tehnologii', 'curate', 'È™i', 'eficiente', 'este', 'esenÈ›ialÄƒ', 'pentru', 'reducerea', 'emisiilor', 'de', 'CO2'], ['ÃŽmbunÄƒtÄƒÈ›irea', 'eficienÈ›ei', 'energetice', 'poate', 'contribui', 'semnificativ', 'la', 'reducerea', 'consumului', 'de', 'energie', 'È™i', 'a', 'emisiilor', 'de', 'gaze', 'cu', 'efect', 'de', 'serÄƒ'], ['EducaÈ›ia', 'ambientalÄƒ', 'Ã®n', 'È™coli', 'este', 'crucialÄƒ', 'pentru', 'formarea', 'unei', 'generaÈ›ii', 'conÈ™tiente', 'de', 'importanÈ›a', 'protejÄƒrii', 'mediului'], ['Reducerea', 'consumului', 'de', 'apÄƒ', 'este', 'esenÈ›ialÄƒ', 'pentru', 'gestionarea', 'durabilÄƒ', 'a', 'resurselor', 'de', 'apÄƒ', 'dulce'], ['Reciclarea', 'materialelor', 'este', 'importantÄƒ', 'pentru', 'reducerea', 'cantitÄƒÈ›ii', 'de', 'deÈ™euri', 'È™i', 'conservarea', 'resurselor', 'naturale'], ['ExtincÈ›ia', 'speciilor', 'este', 'o', 'problemÄƒ', 'gravÄƒ', 'care', 'ameninÈ›Äƒ', 'diversitatea', 'biologicÄƒ', 'a', 'planetei'], ['Protejarea', 'habitatelor', 'naturale', 'este', 'esenÈ›ialÄƒ', 'pentru', 'supravieÈ›uirea', 'multor', 'specii', 'ameninÈ›ate'], ['CreÈ™terea', 'nivelului', 'mÄƒrii', 'pune', 'Ã®n', 'pericol', 'comunitÄƒÈ›ile', 'de', 'coastÄƒ', 'din', 'Ã®ntreaga', 'lume'], ['Acidificarea', 'oceanelor', 'are', 'un', 'impact', 'devastator', 'asupra', 'ecosistemelor', 'marine'], ['Poluarea', 'sonorÄƒ', 'din', 'oceane', 'afecteazÄƒ', 'comunicaÈ›iile', 'È™i', 'comportamentul', 'multor', 'specii', 'marine'], ['Dezvoltarea', 'unor', 'tehnologii', 'alternative', 'la', 'petrol', 'È™i', 'gazele', 'naturale', 'este', 'esenÈ›ialÄƒ', 'pentru', 'reducerea', 'dependenÈ›ei', 'noastre', 'de', 'combustibilii', 'fosili'], ['Poluarea', 'solului', 'duce', 'la', 'degradarea', 'calitÄƒÈ›ii', 'solului', 'È™i', 'la', 'pierderea', 'fertilitÄƒÈ›ii', 'acestuia'], ['DefriÈ™area', 'pÄƒdurilor', 'tropicale', 'are', 'consecinÈ›e', 'devastatoare', 'asupra', 'biodiversitÄƒÈ›ii', 'È™i', 'a', 'climei', 'globale'], ['CreÈ™terea', 'eficienÈ›ei', 'Ã®n', 'utilizarea', 'resurselor', 'naturale', 'este', 'esenÈ›ialÄƒ', 'pentru', 'asigurarea', 'unui', 'viitor', 'durabil', 'pentru', 'planeta', 'noastrÄƒ'], ['Implementarea', 'politicilor', 'de', 'protejare', 'a', 'mediului', 'Ã®nconjurÄƒtor', 'trebuie', 'sÄƒ', 'fie', 'o', 'prioritate', 'la', 'nivel', 'global'], ['Coordonarea', 'eforturilor', 'internaÈ›ionale', 'este', 'crucialÄƒ', 'pentru', 'combaterea', 'schimbÄƒrilor', 'climatice', 'È™i', 'a', 'degradÄƒrii', 'mediului.\\n']]\n"
     ]
    }
   ],
   "source": [
    "print(\"Sentences are \", sentences)"
   ]
  },
  {
   "cell_type": "markdown",
   "id": "3d1df7e2-8509-451b-8d30-6c078fdd7270",
   "metadata": {},
   "source": [
    "# **\"Calculating Sentence Similarity Using Cosine Distance\"**"
   ]
  },
  {
   "cell_type": "code",
   "execution_count": 15,
   "id": "47996b3e-ac45-477a-bf44-25eb0bf9e7ea",
   "metadata": {},
   "outputs": [],
   "source": [
    "def sentence_similarity(sent1, sent2 ):\n",
    "    sent1 = [w.lower() for w in sent1]\n",
    "    sent2 = [w.lower() for w in sent2]\n",
    "    all_words = list(set(sent1 + sent2))\n",
    "    vector1 = [0] * len(all_words)\n",
    "    vector2 = [0] * len(all_words)\n",
    "# build the vector for the first sentence\n",
    "    for w in sent1:\n",
    "      vector1[all_words.index(w)] += 1\n",
    "# build the vector for the second sentence\n",
    "    for w in sent2:\n",
    "      vector2[all_words.index(w)] += 1\n",
    "    return 1 - cosine_distance(vector1, vector2)"
   ]
  },
  {
   "cell_type": "markdown",
   "id": "a75427e9-f1d3-4df4-9ac5-204dccc81fe4",
   "metadata": {},
   "source": [
    "# **Constructing and Displaying Sentence Similarity Matrix**"
   ]
  },
  {
   "cell_type": "code",
   "execution_count": 16,
   "id": "fe553163-2984-40b1-99a7-c7927aa51d5e",
   "metadata": {},
   "outputs": [
    {
     "name": "stdout",
     "output_type": "stream",
     "text": [
      "Smilarity matrix \n",
      " [[0.         0.         0.1754116  ... 0.1490712  0.24494897 0.0877058 ]\n",
      " [0.         0.         0.16012815 ... 0.         0.1490712  0.16012815]\n",
      " [0.1754116  0.16012815 0.         ... 0.13074409 0.14322297 0.        ]\n",
      " ...\n",
      " [0.1490712  0.         0.13074409 ... 0.         0.         0.19611614]\n",
      " [0.24494897 0.1490712  0.14322297 ... 0.         0.         0.07161149]\n",
      " [0.0877058  0.16012815 0.         ... 0.19611614 0.07161149 0.        ]]\n"
     ]
    }
   ],
   "source": [
    "similarity_matrix = np.zeros((len(sentences), len(sentences)))\n",
    "for idx1 in range(len(sentences)):\n",
    "    for idx2 in range(len(sentences)):\n",
    "      if idx1 == idx2: #ignore if both are same sentences\n",
    "         continue\n",
    "      similarity_matrix[idx1][idx2] = sentence_similarity(sentences[idx1],sentences[idx2])\n",
    "print(\"Smilarity matrix \\n\", similarity_matrix)"
   ]
  },
  {
   "cell_type": "markdown",
   "id": "7e68697e-34bc-4f17-aed9-8700d938372b",
   "metadata": {},
   "source": [
    "# **Building Sentence Similarity Graph and Calculating PageRank Scores**"
   ]
  },
  {
   "cell_type": "code",
   "execution_count": 17,
   "id": "e43feb07-d51a-4953-868e-99fec970352c",
   "metadata": {},
   "outputs": [
    {
     "name": "stdout",
     "output_type": "stream",
     "text": [
      "scores {0: 0.0232381035950916, 1: 0.018779726832298976, 2: 0.012365880998904058, 3: 0.011799409735008816, 4: 0.0363199333438354, 5: 0.027706951642458167, 6: 0.027647641715859376, 7: 0.033662477441310984, 8: 0.026056802818099706, 9: 0.02910206112734134, 10: 0.038765192782671036, 11: 0.02780283577784698, 12: 0.027224020049801248, 13: 0.03043106263296375, 14: 0.01784853800491912, 15: 0.026741065136668785, 16: 0.02953949040439221, 17: 0.03594786349877472, 18: 0.03628910954427866, 19: 0.03202705996369588, 20: 0.024569866676122733, 21: 0.006974119956058565, 22: 0.012189438727050651, 23: 0.039028354683343466, 24: 0.0295486249292384, 25: 0.02823435146039915, 26: 0.035427236498790905, 27: 0.03951069480211063, 28: 0.016615897126717565, 29: 0.02946899119299386, 30: 0.015830579503505554, 31: 0.009390359022078265, 32: 0.01507548534306362, 33: 0.038134404839076826, 34: 0.01671598652870808, 35: 0.014790338891175373, 36: 0.03141932450795082, 37: 0.018829782374631964, 38: 0.028950935890762856}\n"
     ]
    }
   ],
   "source": [
    "sentence_similarity_graph =nx.from_numpy_array(similarity_matrix)\n",
    "scores = nx.pagerank(sentence_similarity_graph)\n",
    "print(\"scores\", scores)"
   ]
  },
  {
   "cell_type": "markdown",
   "id": "4d76b77c-773a-4335-bd09-6d77702c8192",
   "metadata": {},
   "source": [
    "# **Sorting**"
   ]
  },
  {
   "cell_type": "code",
   "execution_count": 18,
   "id": "e39d7164-1469-4fca-beae-2712d65aefa5",
   "metadata": {},
   "outputs": [
    {
     "name": "stdout",
     "output_type": "stream",
     "text": [
      "Indexes of top ranked_sentence order are \n",
      "\n",
      " [(0.03951069480211063, ['Reciclarea', 'materialelor', 'este', 'importantÄƒ', 'pentru', 'reducerea', 'cantitÄƒÈ›ii', 'de', 'deÈ™euri', 'È™i', 'conservarea', 'resurselor', 'naturale']), (0.039028354683343466, ['Dezvoltarea', 'unor', 'tehnologii', 'curate', 'È™i', 'eficiente', 'este', 'esenÈ›ialÄƒ', 'pentru', 'reducerea', 'emisiilor', 'de', 'CO2']), (0.038765192782671036, ['Reducerea', 'utilizÄƒrii', 'plasticei', 'este', 'esenÈ›ialÄƒ', 'pentru', 'reducerea', 'poluÄƒrii', 'mÄƒrilor', 'È™i', 'oceanelor']), (0.038134404839076826, ['Dezvoltarea', 'unor', 'tehnologii', 'alternative', 'la', 'petrol', 'È™i', 'gazele', 'naturale', 'este', 'esenÈ›ialÄƒ', 'pentru', 'reducerea', 'dependenÈ›ei', 'noastre', 'de', 'combustibilii', 'fosili']), (0.0363199333438354, ['Reducerea', 'emisiilor', 'de', 'gaze', 'cu', 'efect', 'de', 'serÄƒ', 'este', 'vitalÄƒ', 'pentru', 'contracararea', 'schimbÄƒrilor', 'climatice']), (0.03628910954427866, ['Reducerea', 'utilizÄƒrii', 'combustibililor', 'fosili', 'este', 'crucialÄƒ', 'pentru', 'reducerea', 'emisiilor', 'de', 'CO2']), (0.03594786349877472, ['Protejarea', 'recifelor', 'de', 'corali', 'este', 'esenÈ›ialÄƒ', 'pentru', 'conservarea', 'biodiversitÄƒÈ›ii', 'marine']), (0.035427236498790905, ['Reducerea', 'consumului', 'de', 'apÄƒ', 'este', 'esenÈ›ialÄƒ', 'pentru', 'gestionarea', 'durabilÄƒ', 'a', 'resurselor', 'de', 'apÄƒ', 'dulce']), (0.033662477441310984, ['Protejarea', 'ecosistemelor', 'marine', 'este', 'esenÈ›ialÄƒ', 'pentru', 'conservarea', 'biodiversitÄƒÈ›ii', 'oceanelor']), (0.03202705996369588, ['Remedierea', 'terenurilor', 'contaminate', 'este', 'importantÄƒ', 'pentru', 'reducerea', 'impactului', 'poluÄƒrii', 'solului', 'asupra', 'mediului']), (0.03141932450795082, ['CreÈ™terea', 'eficienÈ›ei', 'Ã®n', 'utilizarea', 'resurselor', 'naturale', 'este', 'esenÈ›ialÄƒ', 'pentru', 'asigurarea', 'unui', 'viitor', 'durabil', 'pentru', 'planeta', 'noastrÄƒ']), (0.03043106263296375, ['Conservarea', 'resurselor', 'naturale', 'este', 'esenÈ›ialÄƒ', 'pentru', 'asigurarea', 'unui', 'dezvoltÄƒri', 'durabile']), (0.0295486249292384, ['ÃŽmbunÄƒtÄƒÈ›irea', 'eficienÈ›ei', 'energetice', 'poate', 'contribui', 'semnificativ', 'la', 'reducerea', 'consumului', 'de', 'energie', 'È™i', 'a', 'emisiilor', 'de', 'gaze', 'cu', 'efect', 'de', 'serÄƒ']), (0.02953949040439221, ['Reducerea', 'risipei', 'alimentare', 'este', 'importantÄƒ', 'pentru', 'reducerea', 'impactului', 'mediului', 'al', 'producÈ›iei', 'alimentare']), (0.02946899119299386, ['Protejarea', 'habitatelor', 'naturale', 'este', 'esenÈ›ialÄƒ', 'pentru', 'supravieÈ›uirea', 'multor', 'specii', 'ameninÈ›ate']), (0.02910206112734134, ['PÄƒstrarea', 'pÄƒdurilor', 'este', 'fundamentalÄƒ', 'pentru', 'contracararea', 'eroziunii', 'solului', 'È™i', 'pierderii', 'habitatelor', 'naturale']), (0.028950935890762856, ['Coordonarea', 'eforturilor', 'internaÈ›ionale', 'este', 'crucialÄƒ', 'pentru', 'combaterea', 'schimbÄƒrilor', 'climatice', 'È™i', 'a', 'degradÄƒrii', 'mediului.\\n']), (0.02823435146039915, ['EducaÈ›ia', 'ambientalÄƒ', 'Ã®n', 'È™coli', 'este', 'crucialÄƒ', 'pentru', 'formarea', 'unei', 'generaÈ›ii', 'conÈ™tiente', 'de', 'importanÈ›a', 'protejÄƒrii', 'mediului']), (0.02780283577784698, ['Reducerea', 'poluÄƒrii', 'atmosferice', 'este', 'vitalÄƒ', 'pentru', 'Ã®mbunÄƒtÄƒÈ›irea', 'calitÄƒÈ›ii', 'aerului', 'pe', 'care', 'Ã®l', 'respirÄƒm']), (0.027706951642458167, ['Managementul', 'durabil', 'al', 'resurselor', 'de', 'apÄƒ', 'este', 'crucial', 'pentru', 'asigurarea', 'securitÄƒÈ›ii', 'apei']), (0.027647641715859376, ['Colectarea', 'selectivÄƒ', 'a', 'deÈ™eurilor', 'este', 'un', 'pas', 'important', 'Ã®n', 'reducerea', 'poluÄƒrii', 'mediului', 'Ã®nconjurÄƒtor']), (0.027224020049801248, ['Protejarea', 'faunei', 'sÄƒlbatice', 'este', 'importantÄƒ', 'pentru', 'menÈ›inerea', 'echilibrului', 'ecosistemelor', 'naturale']), (0.026741065136668785, ['ConÈ™tientizarea', 'importanÈ›ei', 'protejÄƒrii', 'mediului', 'Ã®nconjurÄƒtor', 'este', 'crucialÄƒ', 'pentru', 'promovarea', 'comportamentelor', 'durabile']), (0.026056802818099706, ['Energiele', 'regenerabile,', 'precum', 'energia', 'solarÄƒ', 'È™i', 'cea', 'eolianÄƒ,', 'pot', 'contribui', 'la', 'reducerea', 'emisiilor', 'de', 'gaze', 'cu', 'efect', 'de', 'serÄƒ']), (0.024569866676122733, ['Protejarea', 'mediului', 'Ã®nconjurÄƒtor', 'este', 'o', 'responsabilitate', 'a', 'fiecÄƒruia', 'dintre', 'noi', 'È™i', 'necesitÄƒ', 'un', 'angajament', 'concret', 'din', 'partea', 'fiecÄƒruia']), (0.0232381035950916, ['Protejarea', 'mediului', 'Ã®nconjurÄƒtor', 'este', 'o', 'preocupare', 'majorÄƒ', 'Ã®n', 'zilele', 'noastre']), (0.018829782374631964, ['Implementarea', 'politicilor', 'de', 'protejare', 'a', 'mediului', 'Ã®nconjurÄƒtor', 'trebuie', 'sÄƒ', 'fie', 'o', 'prioritate', 'la', 'nivel', 'global']), (0.018779726832298976, ['DefriÈ™Äƒrile', 'masive', 'duc', 'la', 'pierderea', 'biodiversitÄƒÈ›ii', 'È™i', 'la', 'schimbÄƒrile', 'climatice']), (0.01784853800491912, ['Promovarea', 'mobilitÄƒÈ›ii', 'durabile', 'poate', 'contribui', 'la', 'reducerea', 'poluÄƒrii', 'atmosferice']), (0.01671598652870808, ['Poluarea', 'solului', 'duce', 'la', 'degradarea', 'calitÄƒÈ›ii', 'solului', 'È™i', 'la', 'pierderea', 'fertilitÄƒÈ›ii', 'acestuia']), (0.016615897126717565, ['ExtincÈ›ia', 'speciilor', 'este', 'o', 'problemÄƒ', 'gravÄƒ', 'care', 'ameninÈ›Äƒ', 'diversitatea', 'biologicÄƒ', 'a', 'planetei']), (0.015830579503505554, ['CreÈ™terea', 'nivelului', 'mÄƒrii', 'pune', 'Ã®n', 'pericol', 'comunitÄƒÈ›ile', 'de', 'coastÄƒ', 'din', 'Ã®ntreaga', 'lume']), (0.01507548534306362, ['Poluarea', 'sonorÄƒ', 'din', 'oceane', 'afecteazÄƒ', 'comunicaÈ›iile', 'È™i', 'comportamentul', 'multor', 'specii', 'marine']), (0.014790338891175373, ['DefriÈ™area', 'pÄƒdurilor', 'tropicale', 'are', 'consecinÈ›e', 'devastatoare', 'asupra', 'biodiversitÄƒÈ›ii', 'È™i', 'a', 'climei', 'globale']), (0.012365880998904058, ['Plasticul', 'Ã®n', 'oceane', 'pune', 'Ã®n', 'pericol', 'viaÈ›a', 'marinÄƒ', 'la', 'nivel', 'mondial']), (0.012189438727050651, ['Poluarea', 'aerului', 'din', 'marile', 'oraÈ™e', 'afecteazÄƒ', 'grav', 'sÄƒnÄƒtatea', 'populaÈ›iei', 'È™i', 'calitatea', 'vieÈ›ii']), (0.011799409735008816, ['ÃŽncÄƒlzirea', 'globalÄƒ', 'provoacÄƒ', 'topirea', 'gheÈ›arilor', 'È™i', 'creÈ™terea', 'nivelului', 'mÄƒrii']), (0.009390359022078265, ['Acidificarea', 'oceanelor', 'are', 'un', 'impact', 'devastator', 'asupra', 'ecosistemelor', 'marine']), (0.006974119956058565, ['SchimbÄƒrile', 'climatice', 'reprezintÄƒ', 'una', 'dintre', 'cele', 'mai', 'mari', 'ameninÈ›Äƒri', 'cu', 'care', 'se', 'confruntÄƒ', 'omenirea', 'astÄƒzi'])]\n"
     ]
    }
   ],
   "source": [
    "ranked_sentence = sorted(((scores[i],s) for i,s in enumerate(sentences)), reverse=True)\n",
    "print(\"Indexes of top ranked_sentence order are \\n\\n\",ranked_sentence)"
   ]
  },
  {
   "cell_type": "markdown",
   "id": "591634b8-1de1-4a00-ba09-38dc77bc83b3",
   "metadata": {},
   "source": [
    "# **\"Summarize Text\"**"
   ]
  },
  {
   "cell_type": "code",
   "execution_count": 19,
   "id": "06d09623-e89a-469a-9539-6786d1e068de",
   "metadata": {},
   "outputs": [
    {
     "name": "stdin",
     "output_type": "stream",
     "text": [
      "How many sentences do you want in the summary?  5\n"
     ]
    }
   ],
   "source": [
    "n = int(input(\"How many sentences do you want in the summary? \"))\n",
    "#n=2\n",
    "summarize_text = []\n",
    "for i in range(n):\n",
    "  summarize_text.append(\" \".join(ranked_sentence[i][1]))\n",
    "    "
   ]
  },
  {
   "cell_type": "markdown",
   "id": "70e17561-ed47-415b-9a8c-5c9b8207d472",
   "metadata": {},
   "source": [
    "# **Printing the Generated Summary**"
   ]
  },
  {
   "cell_type": "code",
   "execution_count": 20,
   "id": "85544941-f934-434d-9a0d-bd892f96fcbf",
   "metadata": {},
   "outputs": [
    {
     "name": "stdout",
     "output_type": "stream",
     "text": [
      "Summarize Text: \n",
      " Reciclarea materialelor este importantÄƒ pentru reducerea cantitÄƒÈ›ii de deÈ™euri È™i conservarea resurselor naturale. Dezvoltarea unor tehnologii curate È™i eficiente este esenÈ›ialÄƒ pentru reducerea emisiilor de CO2. Reducerea utilizÄƒrii plasticei este esenÈ›ialÄƒ pentru reducerea poluÄƒrii mÄƒrilor È™i oceanelor. Dezvoltarea unor tehnologii alternative la petrol È™i gazele naturale este esenÈ›ialÄƒ pentru reducerea dependenÈ›ei noastre de combustibilii fosili. Reducerea emisiilor de gaze cu efect de serÄƒ este vitalÄƒ pentru contracararea schimbÄƒrilor climatice\n"
     ]
    }
   ],
   "source": [
    "print(\"Summarize Text: \\n\", \". \".join(summarize_text))"
   ]
  },
  {
   "cell_type": "code",
   "execution_count": null,
   "id": "b9b301d1-5887-4232-9b77-482f380877cb",
   "metadata": {},
   "outputs": [],
   "source": []
  }
 ],
 "metadata": {
  "kernelspec": {
   "display_name": "Python 3 (ipykernel)",
   "language": "python",
   "name": "python3"
  },
  "language_info": {
   "codemirror_mode": {
    "name": "ipython",
    "version": 3
   },
   "file_extension": ".py",
   "mimetype": "text/x-python",
   "name": "python",
   "nbconvert_exporter": "python",
   "pygments_lexer": "ipython3",
   "version": "3.12.3"
  }
 },
 "nbformat": 4,
 "nbformat_minor": 5
}
