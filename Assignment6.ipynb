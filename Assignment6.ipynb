{
 "cells": [
  {
   "cell_type": "code",
   "execution_count": 1,
   "id": "d0d90f1c-93bf-49b2-8844-fd4b0307c572",
   "metadata": {},
   "outputs": [],
   "source": [
    "from nltk.corpus import stopwords #you can remove stop words for\n",
    "\n",
    "from nltk.cluster.util import cosine_distance\n",
    "import numpy as np\n",
    "import networkx as nx"
   ]
  },
  {
   "cell_type": "code",
   "execution_count": 2,
   "id": "53446aaf-c61c-45af-bec5-3f95c74023ce",
   "metadata": {},
   "outputs": [
    {
     "name": "stdout",
     "output_type": "stream",
     "text": [
      "La protection de l'environnement est cruciale pour garantir un avenir durable\n",
      "Les Ã©missions de gaz Ã  effet de serre contribuent au rÃ©chauffement climatique, entraÃ®nant des consÃ©quences dÃ©sastreuses telles que la fonte des glaces et l'Ã©lÃ©vation du niveau de la mer\n",
      "La dÃ©forestation menace la biodiversitÃ© et aggrave le problÃ¨me du changement climatique\n",
      "Il est impÃ©ratif de prendre des mesures immÃ©diates pour rÃ©duire notre empreinte Ã©cologique\n",
      "Promouvoir les Ã©nergies renouvelables et adopter des pratiques agricoles durables sont des Ã©tapes essentielles vers un avenir plus vert\n",
      "Chacun de nous a un rÃ´le Ã  jouer dans la prÃ©servation de notre planÃ¨te pour les gÃ©nÃ©rations futures\n",
      "Les gouvernements doivent prendre des mesures plus strictes pour rÃ©guler les Ã©missions industrielles et encourager les entreprises Ã  adopter des pratiques respectueuses de l'environnement\n",
      "Sensibiliser le public aux problÃ¨mes environnementaux est Ã©galement crucial pour susciter un changement positif\n",
      "La pollution de l'air, de l'eau et des sols menace la santÃ© humaine et le bien-Ãªtre des Ã©cosystÃ¨mes\n",
      "Les plastiques Ã  usage unique reprÃ©se\n",
      "\n"
     ]
    }
   ],
   "source": [
    "file = open(\"C:\\\\Users\\\\keert\\\\Downloads\\\\Text.txt\" , \"r\")\n",
    "#This file contains one paragraph of multiple sentences\n",
    "filedata = file.readlines()\n",
    "article = filedata[0].split(\". \") #Just do the first paragraph\n",
    "sentences = []\n",
    "for sentence in article:\n",
    " print(sentence)\n",
    " sentences.append(sentence.replace(\"[^a-zA-Z]\", \" \").split(\" \"))"
   ]
  },
  {
   "cell_type": "code",
   "execution_count": 3,
   "id": "e8bba590-cbb3-4356-bb1b-d232cb94ab2f",
   "metadata": {},
   "outputs": [
    {
     "name": "stdout",
     "output_type": "stream",
     "text": [
      "Sentences are  [['La', 'protection', 'de', \"l'environnement\", 'est', 'cruciale', 'pour', 'garantir', 'un', 'avenir', 'durable'], ['Les', 'Ã©missions', 'de', 'gaz', 'Ã\\xa0', 'effet', 'de', 'serre', 'contribuent', 'au', 'rÃ©chauffement', 'climatique,', 'entraÃ®nant', 'des', 'consÃ©quences', 'dÃ©sastreuses', 'telles', 'que', 'la', 'fonte', 'des', 'glaces', 'et', \"l'Ã©lÃ©vation\", 'du', 'niveau', 'de', 'la', 'mer'], ['La', 'dÃ©forestation', 'menace', 'la', 'biodiversitÃ©', 'et', 'aggrave', 'le', 'problÃ¨me', 'du', 'changement', 'climatique'], ['Il', 'est', 'impÃ©ratif', 'de', 'prendre', 'des', 'mesures', 'immÃ©diates', 'pour', 'rÃ©duire', 'notre', 'empreinte', 'Ã©cologique'], ['Promouvoir', 'les', 'Ã©nergies', 'renouvelables', 'et', 'adopter', 'des', 'pratiques', 'agricoles', 'durables', 'sont', 'des', 'Ã©tapes', 'essentielles', 'vers', 'un', 'avenir', 'plus', 'vert'], ['Chacun', 'de', 'nous', 'a', 'un', 'rÃ´le', 'Ã\\xa0', 'jouer', 'dans', 'la', 'prÃ©servation', 'de', 'notre', 'planÃ¨te', 'pour', 'les', 'gÃ©nÃ©rations', 'futures'], ['Les', 'gouvernements', 'doivent', 'prendre', 'des', 'mesures', 'plus', 'strictes', 'pour', 'rÃ©guler', 'les', 'Ã©missions', 'industrielles', 'et', 'encourager', 'les', 'entreprises', 'Ã\\xa0', 'adopter', 'des', 'pratiques', 'respectueuses', 'de', \"l'environnement\"], ['Sensibiliser', 'le', 'public', 'aux', 'problÃ¨mes', 'environnementaux', 'est', 'Ã©galement', 'crucial', 'pour', 'susciter', 'un', 'changement', 'positif'], ['La', 'pollution', 'de', \"l'air,\", 'de', \"l'eau\", 'et', 'des', 'sols', 'menace', 'la', 'santÃ©', 'humaine', 'et', 'le', 'bien-Ãªtre', 'des', 'Ã©cosystÃ¨mes'], ['Les', 'plastiques', 'Ã\\xa0', 'usage', 'unique', 'reprÃ©se\\n']]\n"
     ]
    }
   ],
   "source": [
    "print(\"Sentences are \", sentences)"
   ]
  },
  {
   "cell_type": "code",
   "execution_count": 4,
   "id": "9e3f2dba-96c1-4611-8e79-2338b0bf4507",
   "metadata": {},
   "outputs": [],
   "source": [
    "def sentence_similarity(sent1, sent2 ):\n",
    "    sent1 = [w.lower() for w in sent1]\n",
    "    sent2 = [w.lower() for w in sent2]\n",
    "    all_words = list(set(sent1 + sent2))\n",
    "    vector1 = [0] * len(all_words)\n",
    "    vector2 = [0] * len(all_words)\n",
    "# build the vector for the first sentence\n",
    "    for w in sent1:\n",
    "      vector1[all_words.index(w)] += 1\n",
    "# build the vector for the second sentence\n",
    "    for w in sent2:\n",
    "      vector2[all_words.index(w)] += 1\n",
    "    return 1 - cosine_distance(vector1, vector2)"
   ]
  },
  {
   "cell_type": "code",
   "execution_count": 5,
   "id": "f7653664-f821-4a81-a6c9-339ab63718da",
   "metadata": {},
   "outputs": [
    {
     "name": "stdout",
     "output_type": "stream",
     "text": [
      "Smilarity matrix \n",
      " [[0.         0.24140227 0.16116459 0.2508726  0.13159034 0.33709993\n",
      "  0.15990054 0.24174689 0.23652496 0.        ]\n",
      " [0.24140227 0.         0.2567763  0.2220578  0.20965697 0.35805744\n",
      "  0.36799004 0.         0.50245943 0.13074409]\n",
      " [0.16116459 0.2567763  0.         0.         0.05832118 0.11952286\n",
      "  0.04724556 0.14285714 0.41931393 0.        ]\n",
      " [0.2508726  0.2220578  0.         0.         0.12104551 0.24806947\n",
      "  0.2941742  0.14824986 0.21757132 0.        ]\n",
      " [0.13159034 0.20965697 0.05832118 0.12104551 0.         0.09759001\n",
      "  0.42433421 0.05832118 0.2567763  0.08908708]\n",
      " [0.33709993 0.35805744 0.11952286 0.24806947 0.09759001 0.\n",
      "  0.2766993  0.11952286 0.26311741 0.18257419]\n",
      " [0.15990054 0.36799004 0.04724556 0.2941742  0.42433421 0.2766993\n",
      "  0.         0.04724556 0.2773501  0.28867513]\n",
      " [0.24174689 0.         0.14285714 0.14824986 0.05832118 0.11952286\n",
      "  0.04724556 0.         0.05241424 0.        ]\n",
      " [0.23652496 0.50245943 0.41931393 0.21757132 0.2567763  0.26311741\n",
      "  0.2773501  0.05241424 0.         0.        ]\n",
      " [0.         0.13074409 0.         0.         0.08908708 0.18257419\n",
      "  0.28867513 0.         0.         0.        ]]\n"
     ]
    }
   ],
   "source": [
    "similarity_matrix = np.zeros((len(sentences), len(sentences)))\n",
    "for idx1 in range(len(sentences)):\n",
    "    for idx2 in range(len(sentences)):\n",
    "      if idx1 == idx2: #ignore if both are same sentences\n",
    "         continue\n",
    "      similarity_matrix[idx1][idx2] = sentence_similarity(sentences[idx1],sentences[idx2])\n",
    "print(\"Smilarity matrix \\n\", similarity_matrix)"
   ]
  },
  {
   "cell_type": "code",
   "execution_count": 6,
   "id": "0fe1b106-928e-4ef7-8aab-de6cd2a2193c",
   "metadata": {},
   "outputs": [
    {
     "name": "stdout",
     "output_type": "stream",
     "text": [
      "scores {0: 0.1084761778962805, 1: 0.13552173663760184, 2: 0.07784834403706548, 3: 0.09361803949412374, 4: 0.09087892692797152, 5: 0.12163762056625817, 6: 0.13180969556223854, 7: 0.05771131028965021, 8: 0.13192314627657073, 9: 0.050575002312239284}\n"
     ]
    }
   ],
   "source": [
    "sentence_similarity_graph =nx.from_numpy_array(similarity_matrix)\n",
    "scores = nx.pagerank(sentence_similarity_graph)\n",
    "print(\"scores\", scores)"
   ]
  },
  {
   "cell_type": "code",
   "execution_count": 7,
   "id": "aa1c31b3-c47a-44a6-8143-1f2f280a9547",
   "metadata": {},
   "outputs": [
    {
     "name": "stdout",
     "output_type": "stream",
     "text": [
      "Indexes of top ranked_sentence order are \n",
      "\n",
      " [(0.13552173663760184, ['Les', 'Ã©missions', 'de', 'gaz', 'Ã\\xa0', 'effet', 'de', 'serre', 'contribuent', 'au', 'rÃ©chauffement', 'climatique,', 'entraÃ®nant', 'des', 'consÃ©quences', 'dÃ©sastreuses', 'telles', 'que', 'la', 'fonte', 'des', 'glaces', 'et', \"l'Ã©lÃ©vation\", 'du', 'niveau', 'de', 'la', 'mer']), (0.13192314627657073, ['La', 'pollution', 'de', \"l'air,\", 'de', \"l'eau\", 'et', 'des', 'sols', 'menace', 'la', 'santÃ©', 'humaine', 'et', 'le', 'bien-Ãªtre', 'des', 'Ã©cosystÃ¨mes']), (0.13180969556223854, ['Les', 'gouvernements', 'doivent', 'prendre', 'des', 'mesures', 'plus', 'strictes', 'pour', 'rÃ©guler', 'les', 'Ã©missions', 'industrielles', 'et', 'encourager', 'les', 'entreprises', 'Ã\\xa0', 'adopter', 'des', 'pratiques', 'respectueuses', 'de', \"l'environnement\"]), (0.12163762056625817, ['Chacun', 'de', 'nous', 'a', 'un', 'rÃ´le', 'Ã\\xa0', 'jouer', 'dans', 'la', 'prÃ©servation', 'de', 'notre', 'planÃ¨te', 'pour', 'les', 'gÃ©nÃ©rations', 'futures']), (0.1084761778962805, ['La', 'protection', 'de', \"l'environnement\", 'est', 'cruciale', 'pour', 'garantir', 'un', 'avenir', 'durable']), (0.09361803949412374, ['Il', 'est', 'impÃ©ratif', 'de', 'prendre', 'des', 'mesures', 'immÃ©diates', 'pour', 'rÃ©duire', 'notre', 'empreinte', 'Ã©cologique']), (0.09087892692797152, ['Promouvoir', 'les', 'Ã©nergies', 'renouvelables', 'et', 'adopter', 'des', 'pratiques', 'agricoles', 'durables', 'sont', 'des', 'Ã©tapes', 'essentielles', 'vers', 'un', 'avenir', 'plus', 'vert']), (0.07784834403706548, ['La', 'dÃ©forestation', 'menace', 'la', 'biodiversitÃ©', 'et', 'aggrave', 'le', 'problÃ¨me', 'du', 'changement', 'climatique']), (0.05771131028965021, ['Sensibiliser', 'le', 'public', 'aux', 'problÃ¨mes', 'environnementaux', 'est', 'Ã©galement', 'crucial', 'pour', 'susciter', 'un', 'changement', 'positif']), (0.050575002312239284, ['Les', 'plastiques', 'Ã\\xa0', 'usage', 'unique', 'reprÃ©se\\n'])]\n"
     ]
    }
   ],
   "source": [
    "ranked_sentence = sorted(((scores[i],s) for i,s in enumerate(sentences)), reverse=True)\n",
    "print(\"Indexes of top ranked_sentence order are \\n\\n\",ranked_sentence)"
   ]
  },
  {
   "cell_type": "code",
   "execution_count": 8,
   "id": "5f96f38c-33de-4ecd-9b51-148e126437ac",
   "metadata": {},
   "outputs": [
    {
     "name": "stdin",
     "output_type": "stream",
     "text": [
      "How many sentences do you want in the summary?  1\n"
     ]
    }
   ],
   "source": [
    "n = int(input(\"How many sentences do you want in the summary? \"))\n",
    "#n=2\n",
    "summarize_text = []\n",
    "for i in range(n):\n",
    "  summarize_text.append(\" \".join(ranked_sentence[i][1]))\n",
    "    "
   ]
  },
  {
   "cell_type": "code",
   "execution_count": 9,
   "id": "ba7d7448-9ab4-4c2a-b57f-3275d20b6817",
   "metadata": {},
   "outputs": [
    {
     "name": "stdout",
     "output_type": "stream",
     "text": [
      "Summarize Text: \n",
      " Les Ã©missions de gaz Ã  effet de serre contribuent au rÃ©chauffement climatique, entraÃ®nant des consÃ©quences dÃ©sastreuses telles que la fonte des glaces et l'Ã©lÃ©vation du niveau de la mer\n"
     ]
    }
   ],
   "source": [
    "print(\"Summarize Text: \\n\", \". \".join(summarize_text))"
   ]
  },
  {
   "cell_type": "code",
   "execution_count": null,
   "id": "e05aa71b-6196-4c49-93cf-d557f860466f",
   "metadata": {},
   "outputs": [],
   "source": []
  }
 ],
 "metadata": {
  "kernelspec": {
   "display_name": "Python 3 (ipykernel)",
   "language": "python",
   "name": "python3"
  },
  "language_info": {
   "codemirror_mode": {
    "name": "ipython",
    "version": 3
   },
   "file_extension": ".py",
   "mimetype": "text/x-python",
   "name": "python",
   "nbconvert_exporter": "python",
   "pygments_lexer": "ipython3",
   "version": "3.12.3"
  }
 },
 "nbformat": 4,
 "nbformat_minor": 5
}
