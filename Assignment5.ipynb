{
 "cells": [
  {
   "cell_type": "markdown",
   "id": "37e9363e-9f29-448c-95c5-e92804dbcb4d",
   "metadata": {},
   "source": [
    "# **Reading data**"
   ]
  },
  {
   "cell_type": "code",
   "execution_count": 14,
   "id": "8b4ad0b4-fe8e-42f8-be4a-7890eafe2a22",
   "metadata": {},
   "outputs": [
    {
     "name": "stdout",
     "output_type": "stream",
     "text": [
      "          reviewerID        asin                        reviewerName helpful  \\\n",
      "8439  A206T0W1VE8K1Q  B003YVRGN6                             C3p-BRO  [2, 3]   \n",
      "1976   AJH2W783HOXZV  B0002F58TG                    Daniel Berry Jr.  [0, 0]   \n",
      "7687  A2XVE2J5WGCSGX  B0037ME50Y                   William J. Stasse  [2, 2]   \n",
      "9486  A3FW4THIMBIN6V  B00646MZHK  Jeffrey A. Hawkins \"HumanJHawkins\"  [0, 0]   \n",
      "3674  A1B9TIERY43Q8H  B0006NDF8A                          GeekParrot  [0, 0]   \n",
      "9428   AF1I90O6U8VCQ  B005VLR6XC                       Rolf J Craven  [0, 0]   \n",
      "2823  A2XSWF2AJSXQZB  B0002H0A3S                          bassestkkm  [0, 0]   \n",
      "1573  A15TYOEWBQYF0X  B0002E2GMY                      David W \"Dave\"  [0, 0]   \n",
      "214   A319B090A2POEB  B0000AQRSU                                 Lee  [0, 0]   \n",
      "9059  A3W2E6S24BTXXK  B005CX4GLE                    airchamp \"ariel\"  [0, 0]   \n",
      "\n",
      "                                             reviewText  overall  \\\n",
      "8439  This is an amazing guitar. I couldn't put it d...        5   \n",
      "1976  I bought this guitar about 2 years ago and I h...        5   \n",
      "7687  This jumper cable is a decent cable used for j...        4   \n",
      "9486  I was hesitant to purchase this, as I really l...        5   \n",
      "3674  For the price you cannot go wrong with this.  ...        5   \n",
      "9428  The capo looks nice and works without any prob...        4   \n",
      "2823  Only issue they break easily. But they last a ...        5   \n",
      "1573  I am upgrading my Chinese Fender Strat with Am...        5   \n",
      "214   This mic works better for some people than oth...        4   \n",
      "9059  I have a few guitars and these hooks work extr...        5   \n",
      "\n",
      "                                 summary  unixReviewTime   reviewTime  \n",
      "8439                       UNBELIEVABLE!      1368489600  05 14, 2013  \n",
      "1976              Top of the line guitar      1295395200  01 19, 2011  \n",
      "7687                 Good for the job...      1318377600  10 12, 2011  \n",
      "9486  Subtly Better than Previous Snarks      1383609600   11 5, 2013  \n",
      "3674           Great budget guitar stand      1341878400  07 10, 2012  \n",
      "9428                   Works as expected      1376870400  08 19, 2013  \n",
      "2823                  Great Bright Tone!      1354838400   12 7, 2012  \n",
      "1573                           very nice      1394668800  03 13, 2014  \n",
      "214            Good all around vocal mic      1350604800  10 19, 2012  \n",
      "9059                Nice and inexpensive      1401235200  05 28, 2014  \n"
     ]
    }
   ],
   "source": [
    "import pandas as pd\n",
    "\n",
    "\n",
    "df = pd.read_json(\"C:\\\\Users\\\\keert\\\\Downloads\\\\Musical_Instruments_5.json\", lines=True)\n",
    "\n",
    "\n",
    "print(df.sample(10))\n",
    "\n",
    "\n"
   ]
  },
  {
   "cell_type": "markdown",
   "id": "ea6d77aa-a943-466a-87dd-a28d50929715",
   "metadata": {},
   "source": [
    "# **Analyzing Sentiment Lexicon in NLTK**"
   ]
  },
  {
   "cell_type": "code",
   "execution_count": 15,
   "id": "d510efd0-6548-4f3f-ab74-3349eab9bc82",
   "metadata": {},
   "outputs": [
    {
     "name": "stdout",
     "output_type": "stream",
     "text": [
      "Total number of words in opinion lexicon 6789\n",
      "Examples of positive words in opinion lexicon ['a+', 'abound', 'abounds', 'abundance', 'abundant', 'accessable', 'accessible', 'acclaim', 'acclaimed', 'acclamation']\n",
      "Examples of negative words in opinion lexicon ['2-faced', '2-faces', 'abnormal', 'abolish', 'abominable', 'abominably', 'abominate', 'abomination', 'abort', 'aborted']\n"
     ]
    },
    {
     "name": "stderr",
     "output_type": "stream",
     "text": [
      "[nltk_data] Downloading package opinion_lexicon to\n",
      "[nltk_data]     C:\\Users\\keert\\AppData\\Roaming\\nltk_data...\n",
      "[nltk_data]   Package opinion_lexicon is already up-to-date!\n"
     ]
    }
   ],
   "source": [
    "from sklearn import preprocessing\n",
    "import nltk\n",
    "nltk.download('opinion_lexicon')\n",
    "from nltk.corpus import opinion_lexicon\n",
    "from nltk.tokenize import word_tokenize\n",
    "print('Total number of words in opinion lexicon', len(opinion_lexicon.words()))\n",
    "print('Examples of positive words in opinion lexicon',\n",
    "opinion_lexicon.positive()[:10])\n",
    "print('Examples of negative words in opinion lexicon',\n",
    "opinion_lexicon.negative()[:10])"
   ]
  },
  {
   "cell_type": "markdown",
   "id": "3de9b5e0-bc61-4cc9-9cad-60e19bf12b2f",
   "metadata": {},
   "source": [
    "# **Creating Sentiment Score Dictionary**\n"
   ]
  },
  {
   "cell_type": "code",
   "execution_count": 16,
   "id": "a660038c-d23e-4927-a672-03dbd4ec8a8c",
   "metadata": {},
   "outputs": [
    {
     "name": "stderr",
     "output_type": "stream",
     "text": [
      "[nltk_data] Downloading package punkt to\n",
      "[nltk_data]     C:\\Users\\keert\\AppData\\Roaming\\nltk_data...\n",
      "[nltk_data]   Package punkt is already up-to-date!\n"
     ]
    }
   ],
   "source": [
    "nltk.download('punkt')\n",
    "df.rename(columns={\"reviewText\": \"text\"}, inplace=True)\n",
    "pos_score = 1\n",
    "neg_score = -1\n",
    "word_dict = {}\n",
    "# Adding the positive words to the dictionary\n",
    "for word in opinion_lexicon.positive():\n",
    " word_dict[word] = pos_score\n",
    "# Adding the negative words to the dictionary\n",
    "for word in opinion_lexicon.negative():\n",
    " word_dict[word] = neg_score"
   ]
  },
  {
   "cell_type": "markdown",
   "id": "0a66e0d2-f40a-4d64-a8e2-b71c757f0615",
   "metadata": {},
   "source": [
    "# **Calculating Sentiment Score Using Bing Liu Lexicon**"
   ]
  },
  {
   "cell_type": "code",
   "execution_count": 17,
   "id": "bedd7265-5dc9-4692-a40b-8ad9c5c99866",
   "metadata": {},
   "outputs": [],
   "source": [
    "def bing_liu_score(text):\n",
    " sentiment_score = 0\n",
    " bag_of_words = word_tokenize(text.lower())\n",
    " for word in bag_of_words:\n",
    "  if word in word_dict:\n",
    "    sentiment_score += word_dict[word]\n",
    " return sentiment_score"
   ]
  },
  {
   "cell_type": "markdown",
   "id": "5f414096-bc3a-4d5b-9616-5f4aced056ef",
   "metadata": {},
   "source": [
    "# **Calculating Bing Liu Sentiment Scores for DataFrame Text Column**"
   ]
  },
  {
   "cell_type": "code",
   "execution_count": 18,
   "id": "b30b9bcf-07a2-406d-9e44-6e0186daa793",
   "metadata": {},
   "outputs": [
    {
     "name": "stderr",
     "output_type": "stream",
     "text": [
      "C:\\Users\\keert\\AppData\\Local\\Temp\\ipykernel_22744\\3064231398.py:1: FutureWarning: A value is trying to be set on a copy of a DataFrame or Series through chained assignment using an inplace method.\n",
      "The behavior will change in pandas 3.0. This inplace method will never work because the intermediate object on which we are setting values always behaves as a copy.\n",
      "\n",
      "For example, when doing 'df[col].method(value, inplace=True)', try using 'df.method({col: value}, inplace=True)' or df[col] = df[col].method(value) instead, to perform the operation inplace on the original object.\n",
      "\n",
      "\n",
      "  df['text'].fillna('no review', inplace=True)\n"
     ]
    }
   ],
   "source": [
    "df['text'].fillna('no review', inplace=True)\n",
    "df['Bing_Liu_Score'] = df['text'].apply(bing_liu_score)"
   ]
  },
  {
   "cell_type": "markdown",
   "id": "213b7a22-738e-4b07-85d5-0424f148b2e5",
   "metadata": {},
   "source": [
    "# **Displaying Specific Columns in DataFrame**"
   ]
  },
  {
   "cell_type": "code",
   "execution_count": 19,
   "id": "5346d4f2-882d-4dd1-ac8a-2f4217ffc476",
   "metadata": {},
   "outputs": [
    {
     "data": {
      "text/html": [
       "<div>\n",
       "<style scoped>\n",
       "    .dataframe tbody tr th:only-of-type {\n",
       "        vertical-align: middle;\n",
       "    }\n",
       "\n",
       "    .dataframe tbody tr th {\n",
       "        vertical-align: top;\n",
       "    }\n",
       "\n",
       "    .dataframe thead th {\n",
       "        text-align: right;\n",
       "    }\n",
       "</style>\n",
       "<table border=\"1\" class=\"dataframe\">\n",
       "  <thead>\n",
       "    <tr style=\"text-align: right;\">\n",
       "      <th></th>\n",
       "      <th>overall</th>\n",
       "      <th>text</th>\n",
       "      <th>Bing_Liu_Score</th>\n",
       "    </tr>\n",
       "  </thead>\n",
       "  <tbody>\n",
       "    <tr>\n",
       "      <th>0</th>\n",
       "      <td>5</td>\n",
       "      <td>Not much to write about here, but it does exac...</td>\n",
       "      <td>3</td>\n",
       "    </tr>\n",
       "    <tr>\n",
       "      <th>1</th>\n",
       "      <td>5</td>\n",
       "      <td>The product does exactly as it should and is q...</td>\n",
       "      <td>3</td>\n",
       "    </tr>\n",
       "    <tr>\n",
       "      <th>2</th>\n",
       "      <td>5</td>\n",
       "      <td>The primary job of this device is to block the...</td>\n",
       "      <td>2</td>\n",
       "    </tr>\n",
       "    <tr>\n",
       "      <th>3</th>\n",
       "      <td>5</td>\n",
       "      <td>Nice windscreen protects my MXL mic and preven...</td>\n",
       "      <td>-1</td>\n",
       "    </tr>\n",
       "    <tr>\n",
       "      <th>4</th>\n",
       "      <td>5</td>\n",
       "      <td>This pop filter is great. It looks and perform...</td>\n",
       "      <td>2</td>\n",
       "    </tr>\n",
       "    <tr>\n",
       "      <th>5</th>\n",
       "      <td>5</td>\n",
       "      <td>So good that I bought another one.  Love the h...</td>\n",
       "      <td>5</td>\n",
       "    </tr>\n",
       "    <tr>\n",
       "      <th>6</th>\n",
       "      <td>5</td>\n",
       "      <td>I have used monster cables for years, and with...</td>\n",
       "      <td>0</td>\n",
       "    </tr>\n",
       "    <tr>\n",
       "      <th>7</th>\n",
       "      <td>3</td>\n",
       "      <td>I now use this cable to run from the output of...</td>\n",
       "      <td>-2</td>\n",
       "    </tr>\n",
       "    <tr>\n",
       "      <th>8</th>\n",
       "      <td>5</td>\n",
       "      <td>Perfect for my Epiphone Sheraton II.  Monster ...</td>\n",
       "      <td>0</td>\n",
       "    </tr>\n",
       "    <tr>\n",
       "      <th>9</th>\n",
       "      <td>5</td>\n",
       "      <td>Monster makes the best cables and a lifetime w...</td>\n",
       "      <td>0</td>\n",
       "    </tr>\n",
       "  </tbody>\n",
       "</table>\n",
       "</div>"
      ],
      "text/plain": [
       "   overall                                               text  Bing_Liu_Score\n",
       "0        5  Not much to write about here, but it does exac...               3\n",
       "1        5  The product does exactly as it should and is q...               3\n",
       "2        5  The primary job of this device is to block the...               2\n",
       "3        5  Nice windscreen protects my MXL mic and preven...              -1\n",
       "4        5  This pop filter is great. It looks and perform...               2\n",
       "5        5  So good that I bought another one.  Love the h...               5\n",
       "6        5  I have used monster cables for years, and with...               0\n",
       "7        3  I now use this cable to run from the output of...              -2\n",
       "8        5  Perfect for my Epiphone Sheraton II.  Monster ...               0\n",
       "9        5  Monster makes the best cables and a lifetime w...               0"
      ]
     },
     "execution_count": 19,
     "metadata": {},
     "output_type": "execute_result"
    }
   ],
   "source": [
    "df[['overall',\"text\", 'Bing_Liu_Score']].head(10)"
   ]
  },
  {
   "cell_type": "markdown",
   "id": "2bc0f9b0-a60d-4234-9d7c-80e056bddc4d",
   "metadata": {},
   "source": [
    "# **Mean Bing Liu Sentiment Score Grouped by Overall Rating**"
   ]
  },
  {
   "cell_type": "code",
   "execution_count": 20,
   "id": "ebdd75de-dd76-4764-881c-9480c0d5c5b1",
   "metadata": {},
   "outputs": [
    {
     "data": {
      "text/html": [
       "<div>\n",
       "<style scoped>\n",
       "    .dataframe tbody tr th:only-of-type {\n",
       "        vertical-align: middle;\n",
       "    }\n",
       "\n",
       "    .dataframe tbody tr th {\n",
       "        vertical-align: top;\n",
       "    }\n",
       "\n",
       "    .dataframe thead th {\n",
       "        text-align: right;\n",
       "    }\n",
       "</style>\n",
       "<table border=\"1\" class=\"dataframe\">\n",
       "  <thead>\n",
       "    <tr style=\"text-align: right;\">\n",
       "      <th></th>\n",
       "      <th>Bing_Liu_Score</th>\n",
       "    </tr>\n",
       "    <tr>\n",
       "      <th>overall</th>\n",
       "      <th></th>\n",
       "    </tr>\n",
       "  </thead>\n",
       "  <tbody>\n",
       "    <tr>\n",
       "      <th>1</th>\n",
       "      <td>0.023041</td>\n",
       "    </tr>\n",
       "    <tr>\n",
       "      <th>2</th>\n",
       "      <td>1.684000</td>\n",
       "    </tr>\n",
       "    <tr>\n",
       "      <th>3</th>\n",
       "      <td>2.461140</td>\n",
       "    </tr>\n",
       "    <tr>\n",
       "      <th>4</th>\n",
       "      <td>3.355566</td>\n",
       "    </tr>\n",
       "    <tr>\n",
       "      <th>5</th>\n",
       "      <td>3.715624</td>\n",
       "    </tr>\n",
       "  </tbody>\n",
       "</table>\n",
       "</div>"
      ],
      "text/plain": [
       "         Bing_Liu_Score\n",
       "overall                \n",
       "1              0.023041\n",
       "2              1.684000\n",
       "3              2.461140\n",
       "4              3.355566\n",
       "5              3.715624"
      ]
     },
     "execution_count": 20,
     "metadata": {},
     "output_type": "execute_result"
    }
   ],
   "source": [
    "df.groupby('overall').agg({'Bing_Liu_Score':'mean'})"
   ]
  },
  {
   "cell_type": "code",
   "execution_count": null,
   "id": "96893d68-cf55-426a-979d-eed0bf9d17c4",
   "metadata": {},
   "outputs": [],
   "source": []
  }
 ],
 "metadata": {
  "kernelspec": {
   "display_name": "Python 3 (ipykernel)",
   "language": "python",
   "name": "python3"
  },
  "language_info": {
   "codemirror_mode": {
    "name": "ipython",
    "version": 3
   },
   "file_extension": ".py",
   "mimetype": "text/x-python",
   "name": "python",
   "nbconvert_exporter": "python",
   "pygments_lexer": "ipython3",
   "version": "3.12.3"
  }
 },
 "nbformat": 4,
 "nbformat_minor": 5
}
